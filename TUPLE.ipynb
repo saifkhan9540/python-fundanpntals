{
 "cells": [
  {
   "cell_type": "code",
   "execution_count": 145,
   "id": "8c61efd2-d70e-4d3c-a94e-8509b7befde4",
   "metadata": {},
   "outputs": [
    {
     "name": "stdout",
     "output_type": "stream",
     "text": [
      "<class 'tuple'>\n"
     ]
    }
   ],
   "source": [
    "#tuples are unchangeable,and allow dublicate values\n",
    "t1= (1,2,333,443,2,1,22,22,22)\n",
    "print(type(t1))"
   ]
  },
  {
   "cell_type": "code",
   "execution_count": 146,
   "id": "eb925d1a-5777-4465-bcba-fc048c79a6f0",
   "metadata": {},
   "outputs": [],
   "source": [
    " # t1[1]=('a')\n",
    " # print(t1)"
   ]
  },
  {
   "cell_type": "code",
   "execution_count": 147,
   "id": "addea7bd-0dbe-4c98-b3d5-4ac402c76e1a",
   "metadata": {},
   "outputs": [
    {
     "name": "stdout",
     "output_type": "stream",
     "text": [
      "9\n"
     ]
    }
   ],
   "source": [
    "print(len(t1))"
   ]
  },
  {
   "cell_type": "code",
   "execution_count": 148,
   "id": "b6d083b7-6199-4239-86b6-f12b6422eb04",
   "metadata": {},
   "outputs": [
    {
     "name": "stdout",
     "output_type": "stream",
     "text": [
      "<class 'tuple'>\n"
     ]
    }
   ],
   "source": [
    "#tuple with one element\n",
    "t2= (12,1)\n",
    "print(type(t2))"
   ]
  },
  {
   "cell_type": "code",
   "execution_count": 149,
   "id": "ce3012a6-2683-4402-a107-0ae06d9cc799",
   "metadata": {},
   "outputs": [
    {
     "data": {
      "text/plain": [
       "2"
      ]
     },
     "execution_count": 149,
     "metadata": {},
     "output_type": "execute_result"
    }
   ],
   "source": [
    "#acces tuple item and this is called indexing\n",
    "t1[1]"
   ]
  },
  {
   "cell_type": "code",
   "execution_count": 150,
   "id": "aea245ec-843d-4393-9aaa-946f4eef2e46",
   "metadata": {},
   "outputs": [
    {
     "data": {
      "text/plain": [
       "(333, 443, 2)"
      ]
     },
     "execution_count": 150,
     "metadata": {},
     "output_type": "execute_result"
    }
   ],
   "source": [
    "t1[2:5]"
   ]
  },
  {
   "cell_type": "code",
   "execution_count": 151,
   "id": "237295fd-9faa-4f1b-a723-b2e7cf12e5dc",
   "metadata": {},
   "outputs": [
    {
     "data": {
      "text/plain": [
       "(443, 2, 1, 22, 22, 22)"
      ]
     },
     "execution_count": 151,
     "metadata": {},
     "output_type": "execute_result"
    }
   ],
   "source": [
    "t1[-2]\n",
    "t1[-6:]"
   ]
  },
  {
   "cell_type": "code",
   "execution_count": 152,
   "id": "75716457-3295-418f-a7fd-08d230393aaa",
   "metadata": {},
   "outputs": [
    {
     "name": "stdout",
     "output_type": "stream",
     "text": [
      "<class 'list'>\n"
     ]
    }
   ],
   "source": [
    "y = list(t1)\n",
    "print(type(y))"
   ]
  },
  {
   "cell_type": "code",
   "execution_count": 153,
   "id": "75cfa1bc-57db-47e6-8b96-1da29f66e719",
   "metadata": {},
   "outputs": [
    {
     "name": "stdout",
     "output_type": "stream",
     "text": [
      "[1, 2, 11, 443, 2, 1, 22, 22, 22]\n"
     ]
    }
   ],
   "source": [
    "y[2]=11\n",
    "print(y)"
   ]
  },
  {
   "cell_type": "code",
   "execution_count": 154,
   "id": "f6affc35-ae58-490c-b187-69c7cb5c4925",
   "metadata": {},
   "outputs": [
    {
     "name": "stdout",
     "output_type": "stream",
     "text": [
      "(1, 2, 11, 443, 2, 1, 22, 22, 22)\n"
     ]
    }
   ],
   "source": [
    "t1=tuple(y)\n",
    "print(t1)"
   ]
  },
  {
   "cell_type": "code",
   "execution_count": 155,
   "id": "2a6923dd-be1e-4839-a3b1-a5039fa9f140",
   "metadata": {},
   "outputs": [
    {
     "name": "stdout",
     "output_type": "stream",
     "text": [
      "<class 'list'>\n"
     ]
    }
   ],
   "source": [
    "#convert tuple into list to delete and add something\n",
    "z = list(t1)\n",
    "print(type(z))"
   ]
  },
  {
   "cell_type": "code",
   "execution_count": 156,
   "id": "1c2b72ac-6528-466c-9dac-3c545cc82e0c",
   "metadata": {},
   "outputs": [
    {
     "data": {
      "text/plain": [
       "[1, 2, 11, 443, 2, 1, 22, 22, 22, 3]"
      ]
     },
     "execution_count": 156,
     "metadata": {},
     "output_type": "execute_result"
    }
   ],
   "source": [
    "z.append(3)\n",
    "z"
   ]
  },
  {
   "cell_type": "code",
   "execution_count": 157,
   "id": "30a7e810-8b13-49b2-82df-a38750c5c63c",
   "metadata": {},
   "outputs": [
    {
     "data": {
      "text/plain": [
       "[1, 2, 443, 2, 1, 22, 22, 22, 3]"
      ]
     },
     "execution_count": 157,
     "metadata": {},
     "output_type": "execute_result"
    }
   ],
   "source": [
    "z.pop(2)\n",
    "z"
   ]
  },
  {
   "cell_type": "code",
   "execution_count": 158,
   "id": "68108421-ee24-4f4f-9c27-266be0571f4e",
   "metadata": {},
   "outputs": [],
   "source": [
    "tuple_add1=(1,2,3,4)"
   ]
  },
  {
   "cell_type": "code",
   "execution_count": 159,
   "id": "a98cdb66-b9e5-420d-a691-9a50c1f67139",
   "metadata": {},
   "outputs": [
    {
     "data": {
      "text/plain": [
       "(1, 2, 3, 4, 12, 1)"
      ]
     },
     "execution_count": 159,
     "metadata": {},
     "output_type": "execute_result"
    }
   ],
   "source": [
    "tuple_add1 = tuple_add1+t2\n",
    "tuple_add1"
   ]
  },
  {
   "cell_type": "code",
   "execution_count": 160,
   "id": "3e58b203-bcea-4976-aa4b-9f8e08df42af",
   "metadata": {},
   "outputs": [
    {
     "name": "stdout",
     "output_type": "stream",
     "text": [
      "<class 'tuple'>\n"
     ]
    }
   ],
   "source": [
    "print(type(t2))"
   ]
  },
  {
   "cell_type": "code",
   "execution_count": 180,
   "id": "0064457d-e360-4c87-a68f-721317d13f1b",
   "metadata": {},
   "outputs": [
    {
     "data": {
      "text/plain": [
       "(1, 2, 3, 4, 12, 1, 12, 1)"
      ]
     },
     "execution_count": 180,
     "metadata": {},
     "output_type": "execute_result"
    }
   ],
   "source": [
    "v= tuple_add1+t2\n",
    "v"
   ]
  },
  {
   "cell_type": "code",
   "execution_count": 182,
   "id": "138f0533-1155-4463-9d00-4abb5ff73ab9",
   "metadata": {},
   "outputs": [
    {
     "name": "stdout",
     "output_type": "stream",
     "text": [
      "<class 'tuple'>\n"
     ]
    }
   ],
   "source": [
    "print(type(v))"
   ]
  },
  {
   "cell_type": "code",
   "execution_count": 188,
   "id": "3b8e49f6-bf80-4cc1-9aea-63d557fbe70e",
   "metadata": {},
   "outputs": [
    {
     "data": {
      "text/plain": [
       "2"
      ]
     },
     "execution_count": 188,
     "metadata": {},
     "output_type": "execute_result"
    }
   ],
   "source": [
    "#how many time element exist in tuple\n",
    "v.count(12)"
   ]
  },
  {
   "cell_type": "code",
   "execution_count": 190,
   "id": "483fdab2-7821-45a3-9493-641421e93173",
   "metadata": {},
   "outputs": [
    {
     "data": {
      "text/plain": [
       "2"
      ]
     },
     "execution_count": 190,
     "metadata": {},
     "output_type": "execute_result"
    }
   ],
   "source": [
    "v.index(3)"
   ]
  },
  {
   "cell_type": "code",
   "execution_count": null,
   "id": "f70dbd1e-f838-4ba3-8f60-c5e0cdf6f4c9",
   "metadata": {},
   "outputs": [],
   "source": []
  }
 ],
 "metadata": {
  "kernelspec": {
   "display_name": "Python [conda env:base] *",
   "language": "python",
   "name": "conda-base-py"
  },
  "language_info": {
   "codemirror_mode": {
    "name": "ipython",
    "version": 3
   },
   "file_extension": ".py",
   "mimetype": "text/x-python",
   "name": "python",
   "nbconvert_exporter": "python",
   "pygments_lexer": "ipython3",
   "version": "3.12.7"
  }
 },
 "nbformat": 4,
 "nbformat_minor": 5
}
